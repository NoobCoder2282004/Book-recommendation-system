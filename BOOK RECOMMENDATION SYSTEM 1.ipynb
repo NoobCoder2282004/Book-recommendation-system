{
 "cells": [
  {
   "cell_type": "code",
   "execution_count": null,
   "metadata": {},
   "outputs": [],
   "source": [
    "# BOOKS RECOMMENDATION SYSTEM ==>>\n",
    "\n",
    "import numpy as np\n",
    "import pandas as pd\n",
    "from sklearn.feature_extraction import text\n",
    "from sklearn.metrics.pairwise import linear_kernel\n",
    "\n",
    "data = pd.read_csv(\"book_data.csv\")\n",
    "print(data.head())\n",
    "data = data[[\"book_title\", \"book_desc\", \"book_rating_count\"]]\n",
    "print(data.head())\n",
    "data = data.sort_values(by=\"book_rating_count\", ascending=False)\n",
    "top_5 = data.head()\n",
    "\n",
    "import plotly.express as px\n",
    "import plotly.graph_objects as go\n",
    "\n",
    "labels = top_5[\"book_title\"]\n",
    "values = top_5[\"book_rating_count\"]\n",
    "colors = ['gold','lightgreen']\n",
    "\n",
    "\n",
    "fig = go.Figure(data=[go.Pie(labels=labels, values=values)])\n",
    "fig.update_layout(title_text=\"Top 5 Rated Books\")\n",
    "fig.update_traces(hoverinfo='label+percent', textinfo='percent', textfont_size=30,\n",
    "                  marker=dict(colors=colors, line=dict(color='black', width=3)))\n",
    "fig.show()\n",
    "print(data.isnull().sum())\n",
    "data = data.dropna()\n",
    "feature = data[\"book_desc\"].tolist()\n",
    "tfidf = text.TfidfVectorizer(input=feature, stop_words=\"english\")\n",
    "tfidf_matrix = tfidf.fit_transform(feature)\n",
    "similarity = linear_kernel(tfidf_matrix, tfidf_matrix)\n",
    "indices = pd.Series(data.index,index=data['book_title']).drop_duplicates()\n",
    "def book_recommendation(title, similarity = similarity):\n",
    "    index = indices[title]\n",
    "    similarity_scores = list(enumerate(similarity[index]))\n",
    "    similarity_scores = sorted(similarity_scores, key=lambda x: x[1], reverse=True)\n",
    "    similarity_scores = similarity_scores[0:5]\n",
    "    bookindices = [i[0] for i in similarity_scores]\n",
    "    return data['book_title'].iloc[bookindices]\n",
    "print(book_recommendation(\"Letters to a Secret Lover\"))"
   ]
  }
 ],
 "metadata": {
  "kernelspec": {
   "display_name": "Python 3",
   "language": "python",
   "name": "python3"
  },
  "language_info": {
   "codemirror_mode": {
    "name": "ipython",
    "version": 3
   },
   "file_extension": ".py",
   "mimetype": "text/x-python",
   "name": "python",
   "nbconvert_exporter": "python",
   "pygments_lexer": "ipython3",
   "version": "3.9.0"
  }
 },
 "nbformat": 4,
 "nbformat_minor": 4
}
